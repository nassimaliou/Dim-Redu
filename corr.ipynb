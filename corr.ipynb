{
 "cells": [
  {
   "cell_type": "code",
   "execution_count": 13,
   "metadata": {},
   "outputs": [],
   "source": [
    "import pandas as pd\n",
    "import numpy as np\n",
    "import matplotlib.pyplot as plt\n",
    "import seaborn as sns"
   ]
  },
  {
   "cell_type": "code",
   "execution_count": 29,
   "metadata": {},
   "outputs": [
    {
     "data": {
      "text/html": [
       "<div>\n",
       "<style scoped>\n",
       "    .dataframe tbody tr th:only-of-type {\n",
       "        vertical-align: middle;\n",
       "    }\n",
       "\n",
       "    .dataframe tbody tr th {\n",
       "        vertical-align: top;\n",
       "    }\n",
       "\n",
       "    .dataframe thead th {\n",
       "        text-align: right;\n",
       "    }\n",
       "</style>\n",
       "<table border=\"1\" class=\"dataframe\">\n",
       "  <thead>\n",
       "    <tr style=\"text-align: right;\">\n",
       "      <th></th>\n",
       "      <th>headbreadth</th>\n",
       "      <th>headcircumference</th>\n",
       "      <th>headlength</th>\n",
       "      <th>tragiontopofhead</th>\n",
       "      <th>neckcircumference</th>\n",
       "      <th>neckcircumferencebase</th>\n",
       "    </tr>\n",
       "  </thead>\n",
       "  <tbody>\n",
       "    <tr>\n",
       "      <th>0</th>\n",
       "      <td>193</td>\n",
       "      <td>150</td>\n",
       "      <td>583</td>\n",
       "      <td>491</td>\n",
       "      <td>118</td>\n",
       "      <td>400</td>\n",
       "    </tr>\n",
       "    <tr>\n",
       "      <th>1</th>\n",
       "      <td>195</td>\n",
       "      <td>146</td>\n",
       "      <td>568</td>\n",
       "      <td>476</td>\n",
       "      <td>131</td>\n",
       "      <td>380</td>\n",
       "    </tr>\n",
       "    <tr>\n",
       "      <th>2</th>\n",
       "      <td>203</td>\n",
       "      <td>148</td>\n",
       "      <td>573</td>\n",
       "      <td>477</td>\n",
       "      <td>123</td>\n",
       "      <td>403</td>\n",
       "    </tr>\n",
       "    <tr>\n",
       "      <th>3</th>\n",
       "      <td>194</td>\n",
       "      <td>158</td>\n",
       "      <td>576</td>\n",
       "      <td>445</td>\n",
       "      <td>106</td>\n",
       "      <td>407</td>\n",
       "    </tr>\n",
       "    <tr>\n",
       "      <th>4</th>\n",
       "      <td>218</td>\n",
       "      <td>153</td>\n",
       "      <td>566</td>\n",
       "      <td>584</td>\n",
       "      <td>135</td>\n",
       "      <td>398</td>\n",
       "    </tr>\n",
       "    <tr>\n",
       "      <th>...</th>\n",
       "      <td>...</td>\n",
       "      <td>...</td>\n",
       "      <td>...</td>\n",
       "      <td>...</td>\n",
       "      <td>...</td>\n",
       "      <td>...</td>\n",
       "    </tr>\n",
       "    <tr>\n",
       "      <th>4077</th>\n",
       "      <td>182</td>\n",
       "      <td>151</td>\n",
       "      <td>554</td>\n",
       "      <td>447</td>\n",
       "      <td>123</td>\n",
       "      <td>378</td>\n",
       "    </tr>\n",
       "    <tr>\n",
       "      <th>4078</th>\n",
       "      <td>191</td>\n",
       "      <td>149</td>\n",
       "      <td>558</td>\n",
       "      <td>472</td>\n",
       "      <td>117</td>\n",
       "      <td>392</td>\n",
       "    </tr>\n",
       "    <tr>\n",
       "      <th>4079</th>\n",
       "      <td>183</td>\n",
       "      <td>148</td>\n",
       "      <td>555</td>\n",
       "      <td>439</td>\n",
       "      <td>118</td>\n",
       "      <td>416</td>\n",
       "    </tr>\n",
       "    <tr>\n",
       "      <th>4080</th>\n",
       "      <td>192</td>\n",
       "      <td>150</td>\n",
       "      <td>560</td>\n",
       "      <td>453</td>\n",
       "      <td>123</td>\n",
       "      <td>387</td>\n",
       "    </tr>\n",
       "    <tr>\n",
       "      <th>4081</th>\n",
       "      <td>205</td>\n",
       "      <td>153</td>\n",
       "      <td>615</td>\n",
       "      <td>509</td>\n",
       "      <td>136</td>\n",
       "      <td>439</td>\n",
       "    </tr>\n",
       "  </tbody>\n",
       "</table>\n",
       "<p>4082 rows × 6 columns</p>\n",
       "</div>"
      ],
      "text/plain": [
       "      headbreadth  headcircumference  headlength  tragiontopofhead  \\\n",
       "0             193                150         583               491   \n",
       "1             195                146         568               476   \n",
       "2             203                148         573               477   \n",
       "3             194                158         576               445   \n",
       "4             218                153         566               584   \n",
       "...           ...                ...         ...               ...   \n",
       "4077          182                151         554               447   \n",
       "4078          191                149         558               472   \n",
       "4079          183                148         555               439   \n",
       "4080          192                150         560               453   \n",
       "4081          205                153         615               509   \n",
       "\n",
       "      neckcircumference  neckcircumferencebase  \n",
       "0                   118                    400  \n",
       "1                   131                    380  \n",
       "2                   123                    403  \n",
       "3                   106                    407  \n",
       "4                   135                    398  \n",
       "...                 ...                    ...  \n",
       "4077                123                    378  \n",
       "4078                117                    392  \n",
       "4079                118                    416  \n",
       "4080                123                    387  \n",
       "4081                136                    439  \n",
       "\n",
       "[4082 rows x 6 columns]"
      ]
     },
     "execution_count": 29,
     "metadata": {},
     "output_type": "execute_result"
    }
   ],
   "source": [
    "#importing the datasets we're going to work with\n",
    "\n",
    "ansur_head_df = pd.read_csv('data/ansur_head_measurements.csv')  \n",
    "ansur_head_df"
   ]
  },
  {
   "cell_type": "code",
   "execution_count": 32,
   "metadata": {},
   "outputs": [
    {
     "data": {
      "image/png": "[encoded data removed]",
      "text/plain": [
       "<Figure size 432x288 with 2 Axes>"
      ]
     },
     "metadata": {
      "needs_background": "light"
     },
     "output_type": "display_data"
    }
   ],
   "source": [
    "# Creating the correlation matrix and Drawing it using seaborn heatmap\n",
    "corr_matrix = ansur_head_df.corr()\n",
    "\n",
    "mask = np.triu(np.ones_like(corr_matrix, dtype=bool))\n",
    "\n",
    "sns.heatmap(corr_matrix, mask=mask, center=0, linewidths=1, annot=True, fmt=\".2f\")\n",
    "plt.show()\n"
   ]
  },
  {
   "cell_type": "code",
   "execution_count": 35,
   "metadata": {},
   "outputs": [
    {
     "name": "stdout",
     "output_type": "stream",
     "text": [
      "The df's dimension after dropping highly correlated features is : 4\n"
     ]
    }
   ],
   "source": [
    "corr_matrix = ansur_head_df.corr().abs()\n",
    "# Creating a True/False mask and fitting it\n",
    "mask = np.triu(np.ones_like(corr_matrix, dtype=bool))\n",
    "tri_df = corr_matrix.mask(mask)\n",
    "\n",
    "to_drop = [c for c in tri_df.columns if any(tri_df[c] >  0.5)] #0.5 is supposed to be the threshold\n",
    "reduced_df = ansur_head_df.drop(to_drop, axis=1)\n",
    "\n",
    "print(\"The df's dimension after dropping highly correlated features is : {}\".format(reduced_df.shape[1]))"
   ]
  }
 ],
 "metadata": {
  "interpreter": {
   "hash": "d102c35c8607a7e7803da75249984670318763ab35a6ab231ccb3a7d49cbd56c"
  },
  "kernelspec": {
   "display_name": "Python 3.9.9 64-bit (windows store)",
   "language": "python",
   "name": "python3"
  },
  "language_info": {
   "codemirror_mode": {
    "name": "ipython",
    "version": 3
   },
   "file_extension": ".py",
   "mimetype": "text/x-python",
   "name": "python",
   "nbconvert_exporter": "python",
   "pygments_lexer": "ipython3",
   "version": "3.9.9"
  },
  "orig_nbformat": 4
 },
 "nbformat": 4,
 "nbformat_minor": 2
}
